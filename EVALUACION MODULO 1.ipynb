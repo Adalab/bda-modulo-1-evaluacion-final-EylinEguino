{
 "cells": [
  {
   "cell_type": "code",
   "execution_count": 3,
   "id": "f272491e",
   "metadata": {},
   "outputs": [],
   "source": [
    "#  Evaluación Final Módulo 1\n",
    "# Eylin Eguino  \n",
    "# Variables iniciales\n",
    "inventario = []\n",
    "clientes = {}\n",
    "ventas_totales = 0.0\n",
    "\n"
   ]
  },
  {
   "cell_type": "code",
   "execution_count": 4,
   "id": "3e2c890d",
   "metadata": {},
   "outputs": [],
   "source": [
    "# 1.\n",
    "def agregar_producto(nombre, precio, cantidad):\n",
    "    producto_existente = False\n",
    "    for producto in inventario:\n",
    "        if producto['nombre'] == nombre:\n",
    "            producto['cantidad'] += cantidad\n",
    "            producto_existente = True\n",
    "            break\n",
    "    if not producto_existente:\n",
    "        nuevo_producto = {\n",
    "            'nombre': nombre,\n",
    "            'precio': precio,\n",
    "            'cantidad': cantidad\n",
    "        }               \n",
    "        inventario.append(nuevo_producto)\n",
    "\n",
    "        "
   ]
  },
  {
   "cell_type": "code",
   "execution_count": 5,
   "id": "270c859b",
   "metadata": {},
   "outputs": [],
   "source": [
    "agregar_producto('Camisa', 20, 50)\n",
    "agregar_producto('Pantalón', 30, 30)\n",
    "agregar_producto('Zapatos', 50, 40)   "
   ]
  },
  {
   "cell_type": "code",
   "execution_count": 22,
   "id": "6c645265",
   "metadata": {},
   "outputs": [],
   "source": [
    "# 2.\n",
    "def ver_inventario():\n",
    "   for producto in inventario:\n",
    "       nombre = producto['nombre']\n",
    "       precio = producto['precio'] \n",
    "       cantidad = producto['cantidad']\n",
    "       print(f\"Nombre: {nombre}, Precio: ${precio}, Cantidad: {cantidad} uds\")  \n",
    "             "
   ]
  },
  {
   "cell_type": "code",
   "execution_count": 23,
   "id": "d0045e74",
   "metadata": {},
   "outputs": [
    {
     "name": "stdout",
     "output_type": "stream",
     "text": [
      "Nombre: Camisa, Precio: $20, Cantidad: 150 uds\n",
      "Nombre: Pantalón, Precio: $30, Cantidad: 90 uds\n",
      "Nombre: Zapatos, Precio: $50, Cantidad: 120 uds\n"
     ]
    }
   ],
   "source": [
    "ver_inventario()"
   ]
  },
  {
   "cell_type": "markdown",
   "id": "982a356e",
   "metadata": {},
   "source": []
  },
  {
   "cell_type": "code",
   "execution_count": 30,
   "id": "a316d57a",
   "metadata": {},
   "outputs": [],
   "source": [
    "# 3.\n",
    "def buscar_producto(nombre):\n",
    "    encontrado = False\n",
    "    for producto in inventario:\n",
    "        if producto['nombre'].lower() == nombre.lower():\n",
    "            print(f\"Nombre: {producto['nombre']}, Precio: ${producto['precio']}, Cantidad: {producto['cantidad']} uds\")\n",
    "            encontrado = True\n",
    "            break\n",
    "    if not encontrado:\n",
    "        print(\"Producto no encontrado en el inventario\")"
   ]
  },
  {
   "cell_type": "code",
   "execution_count": 32,
   "id": "e862d88c",
   "metadata": {},
   "outputs": [
    {
     "name": "stdout",
     "output_type": "stream",
     "text": [
      "Nombre: Camisa, Precio: $20, Cantidad: 150 uds\n",
      "Nombre: Pantalón, Precio: $30, Cantidad: 90 uds\n",
      "Nombre: Zapatos, Precio: $50, Cantidad: 120 uds\n",
      "Producto no encontrado en el inventario\n"
     ]
    }
   ],
   "source": [
    "buscar_producto('Camisa')\n",
    "buscar_producto('Pantalón') \n",
    "buscar_producto('Zapatos')\n",
    "buscar_producto('Chaqueta')"
   ]
  },
  {
   "cell_type": "code",
   "execution_count": 33,
   "id": "f421a4a7",
   "metadata": {},
   "outputs": [],
   "source": [
    "#4\n",
    "def actualizar_stock(nombre, cantidad):\n",
    "    encontrado = False\n",
    "    for producto in inventario:\n",
    "        if producto['nombre'].lower() == nombre.lower():\n",
    "            producto['cantidad'] += cantidad\n",
    "            print(f\"Stock actualizado. Nueva cantidad de {nombre}: {producto['cantidad']} uds\")\n",
    "            encontrado = True   \n",
    "            break\n",
    "    if not encontrado:\n",
    "        print(\"Producto no encontrado en el inventario\")"
   ]
  },
  {
   "cell_type": "code",
   "execution_count": 34,
   "id": "fc661c5d",
   "metadata": {},
   "outputs": [
    {
     "name": "stdout",
     "output_type": "stream",
     "text": [
      "Stock actualizado. Nueva cantidad de Zapatos: 130 uds\n",
      "Stock actualizado. Nueva cantidad de Camisa: 145 uds\n",
      "Stock actualizado. Nueva cantidad de Pantalón: 95 uds\n",
      "Producto no encontrado en el inventario\n"
     ]
    }
   ],
   "source": [
    "actualizar_stock('Zapatos', 10)\n",
    "actualizar_stock('Camisa', -5)\n",
    "actualizar_stock('Pantalón', 5) \n",
    "actualizar_stock('Chaqueta', 10)"
   ]
  },
  {
   "cell_type": "code",
   "execution_count": 35,
   "id": "a2d4322e",
   "metadata": {},
   "outputs": [],
   "source": [
    "# 5.\n",
    "def eliminar_producto(nombre):\n",
    "    encontrado = False  \n",
    "    for producto in inventario:\n",
    "        if producto['nombre'].lower() == nombre.lower():\n",
    "            inventario.remove(producto)\n",
    "            print(f\"Producto {nombre} eliminado del inventario\")\n",
    "            encontrado = True\n",
    "            break\n",
    "    if not encontrado:\n",
    "        print(f\"Producto '{nombre} no encontrado en el inventario\")"
   ]
  },
  {
   "cell_type": "code",
   "execution_count": 36,
   "id": "7c7bdf87",
   "metadata": {},
   "outputs": [
    {
     "name": "stdout",
     "output_type": "stream",
     "text": [
      "Nombre: Camisa, Precio: $20, Cantidad: 145 uds\n",
      "Nombre: Pantalón, Precio: $30, Cantidad: 95 uds\n",
      "Nombre: Zapatos, Precio: $50, Cantidad: 130 uds\n",
      "Producto Camisa eliminado del inventario\n",
      "Nombre: Pantalón, Precio: $30, Cantidad: 95 uds\n",
      "Nombre: Zapatos, Precio: $50, Cantidad: 130 uds\n"
     ]
    }
   ],
   "source": [
    "ver_inventario()\n",
    "eliminar_producto('Camisa')\n",
    "ver_inventario()"
   ]
  },
  {
   "cell_type": "code",
   "execution_count": 47,
   "id": "f3e18558",
   "metadata": {},
   "outputs": [],
   "source": [
    "# 6.\n",
    "def calcular_valor_inventario():\n",
    "    valor_total = 0\n",
    "    for producto in inventario:\n",
    "        valor_producto = producto['precio'] * producto['cantidad']\n",
    "        valor_total += valor_producto\n",
    "        \n",
    "    print(f\"Valor total del inventario: ${valor_total}\")\n",
    "    \n"
   ]
  },
  {
   "cell_type": "code",
   "execution_count": 48,
   "id": "0265568b",
   "metadata": {},
   "outputs": [
    {
     "name": "stdout",
     "output_type": "stream",
     "text": [
      "Valor total del inventario: $9350\n"
     ]
    }
   ],
   "source": [
    "calcular_valor_inventario()"
   ]
  },
  {
   "cell_type": "code",
   "execution_count": 49,
   "id": "468bb45f",
   "metadata": {},
   "outputs": [],
   "source": [
    "#7\n",
    "def realizar_compra():\n",
    "    carrito={}\n",
    "    total_compra = 0.0\n",
    "    while True:\n",
    "        ver_inventario()  \n",
    "        producto = input(\"¿Qué producto quieres comprar? (escribe 'fin' para terminar): \")\n",
    "\n",
    "        if producto.lower() == 'fin':\n",
    "            break  \n",
    "        encontrado = False\n",
    "        for item in inventario:\n",
    "            if item['nombre'].lower() == producto.lower():\n",
    "                encontrado = True\n",
    "                try:\n",
    "                    cantidad = int(input(f\"¿Cuántos '{producto}' quieres comprar?: \"))\n",
    "                except ValueError:\n",
    "                    print(\"Por favor, ingresa un número válido.\")\n",
    "                    break\n",
    "\n",
    "                if cantidad <= 0:\n",
    "                    print(\"La cantidad debe ser mayor que cero.\")\n",
    "                    break\n",
    "\n",
    "                if item['cantidad'] >= cantidad:\n",
    "                    item['cantidad'] -= cantidad  \n",
    "                    if producto not in carrito:\n",
    "                        carrito[producto] = {'precio': item['precio'], 'cantidad': cantidad}\n",
    "                    else:\n",
    "                        carrito[producto]['cantidad'] += cantidad\n",
    "                    total_compra += item['precio'] * cantidad\n",
    "                    print(f\"Has añadido {cantidad} {producto}(s) al carrito.\")\n",
    "                else:\n",
    "                    print(f\"No hay suficiente stock de {producto}. Quedan {item['cantidad']} unidades.\")\n",
    "                break\n",
    "        if not encontrado:\n",
    "            print(\"Ese producto no está en el inventario.\")\n",
    "\n",
    "    print(f\"\\nTotal de la compra: ${total_compra}\")\n",
    "    return carrito, total_compra"
   ]
  },
  {
   "cell_type": "code",
   "execution_count": 50,
   "id": "02b0c6cd",
   "metadata": {},
   "outputs": [
    {
     "name": "stdout",
     "output_type": "stream",
     "text": [
      "Nombre: Pantalón, Precio: $30, Cantidad: 95 uds\n",
      "Nombre: Zapatos, Precio: $50, Cantidad: 130 uds\n",
      "Ese producto no está en el inventario.\n",
      "Nombre: Pantalón, Precio: $30, Cantidad: 95 uds\n",
      "Nombre: Zapatos, Precio: $50, Cantidad: 130 uds\n",
      "Has añadido 5 pantalón(s) al carrito.\n",
      "Nombre: Pantalón, Precio: $30, Cantidad: 90 uds\n",
      "Nombre: Zapatos, Precio: $50, Cantidad: 130 uds\n",
      "Has añadido 6 zapatos(s) al carrito.\n",
      "Nombre: Pantalón, Precio: $30, Cantidad: 90 uds\n",
      "Nombre: Zapatos, Precio: $50, Cantidad: 124 uds\n",
      "\n",
      "Total de la compra: $450.0\n"
     ]
    }
   ],
   "source": [
    "carrito, total = realizar_compra()"
   ]
  }
 ],
 "metadata": {
  "kernelspec": {
   "display_name": "Python 3",
   "language": "python",
   "name": "python3"
  },
  "language_info": {
   "codemirror_mode": {
    "name": "ipython",
    "version": 3
   },
   "file_extension": ".py",
   "mimetype": "text/x-python",
   "name": "python",
   "nbconvert_exporter": "python",
   "pygments_lexer": "ipython3",
   "version": "3.11.9"
  }
 },
 "nbformat": 4,
 "nbformat_minor": 5
}
