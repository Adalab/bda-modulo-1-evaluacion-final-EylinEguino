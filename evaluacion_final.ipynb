{
 "cells": [
  {
   "cell_type": "code",
   "execution_count": null,
   "id": "f62c64c4",
   "metadata": {},
   "outputs": [],
   "source": [
    "#1. `inventario` (lista de diccionarios): Una estructura para almacenar los productos en el inventario. Cada producto debe ser representado como un diccionario con las siguientes claves: `'nombre'`, `'precio'`, y'cantidad'`. Al principio deberá ser una lista vacía. Ejemplo de como debería ser:\n",
    " #```python\n",
    "# [{'nombre': 'Camisa', 'precio': 20, 'cantidad': 40},\n",
    " #{'nombre': 'Pantalón', 'precio': 30, 'cantidad': 30}]"
   ]
  },
  {
   "cell_type": "code",
   "execution_count": 28,
   "id": "04e798ed",
   "metadata": {
    "vscode": {
     "languageId": "ruby"
    }
   },
   "outputs": [],
   "source": [
    "# Crear una lista vacía para almacenar los productos en el inventario\n",
    "inventario = []\n",
    "clientes = {}\n",
    "ventas_totales = 0.0\n",
    "def agregar_producto(nombre, precio, cantidad):\n",
    "    # Esta variable nos ayuda a saber si el producto ya existe en el inventario\n",
    "    producto_existente = False\n",
    "\n",
    "    # Recorremos cada producto en la lista 'inventario'\n",
    "    for producto in inventario:\n",
    "        # Comparamos si el nombre del producto coincide con el que se quiere agregar\n",
    "        if producto['nombre'] == nombre:\n",
    "            # Si ya existe, actualizamos la cantidad sumando la nueva cantidad\n",
    "            producto['cantidad'] += cantidad\n",
    "            producto_existente = True  # Marcamos que el producto ya existía\n",
    "            break  # Ya encontramos el producto, no hace falta seguir buscando\n",
    "\n",
    "    # Si después del bucle no se encontró el producto (es nuevo)\n",
    "    if not producto_existente:\n",
    "        # Creamos un nuevo diccionario con nombre, precio y cantidad\n",
    "        nuevo_producto = {\n",
    "            'nombre': nombre,\n",
    "            'precio': precio,\n",
    "            'cantidad': cantidad\n",
    "        }\n",
    "        # Agregamos el nuevo producto al inventario\n",
    "        inventario.append(nuevo_producto)\n",
    "# 2\n",
    "def ver_inventario():\n",
    "    # Recorremos cada producto dentro de la lista 'inventario'\n",
    "    for producto in inventario:\n",
    "        # Extraemos los valores de cada producto\n",
    "        nombre = producto['nombre']\n",
    "        precio = producto['precio']\n",
    "        cantidad = producto['cantidad']\n",
    "        \n",
    "        # Imprimimos los detalles del producto en el formato solicitado\n",
    "        print(f\"Nombre: {nombre}, Precio: ${precio}, Cantidad: {cantidad}\")"
   ]
  },
  {
   "cell_type": "code",
   "execution_count": 29,
   "id": "a1acdd83",
   "metadata": {
    "vscode": {
     "languageId": "ruby"
    }
   },
   "outputs": [
    {
     "name": "stdout",
     "output_type": "stream",
     "text": [
      "Nombre: Camisa, Precio: $20, Cantidad: 50\n",
      "Nombre: Pantalón, Precio: $30, Cantidad: 30\n",
      "Nombre: Zapatos, Precio: $50, Cantidad: 40\n"
     ]
    }
   ],
   "source": [
    "agregar_producto(\"Camisa\", 20, 50)\n",
    "agregar_producto(\"Pantalón\", 30, 30)   \n",
    "agregar_producto(\"Zapatos\", 50, 40)     \n",
    "ver_inventario()\n"
   ]
  },
  {
   "cell_type": "code",
   "execution_count": 30,
   "id": "d00dc102",
   "metadata": {
    "vscode": {
     "languageId": "ruby"
    }
   },
   "outputs": [],
   "source": [
    "# 3buscar_producto(nombre)`: Busca un producto en el inventario por nombre y muestra sus detalles si se encuentra. Debe recibir el nombre del producto como paráetro.\n",
    "\n",
    "def buscar_producto(nombre):\n",
    "    encontrado = False  # Usamos esta variable para saber si lo encontramos\n",
    "\n",
    "    for producto in inventario:\n",
    "        if producto['nombre'].lower() == nombre.lower():  # Compara sin distinguir mayúsculas\n",
    "            print(f\"Nombre: {producto['nombre']}, Precio: ${producto['precio']}, Cantidad: {producto['cantidad']}\")\n",
    "            encontrado = True\n",
    "            break  # Si ya lo encontró, no sigue buscando\n",
    "\n",
    "    if not encontrado:\n",
    "        print(\"Producto no encontrado.\")"
   ]
  },
  {
   "cell_type": "code",
   "execution_count": 32,
   "id": "125c48c0",
   "metadata": {
    "vscode": {
     "languageId": "ruby"
    }
   },
   "outputs": [
    {
     "name": "stdout",
     "output_type": "stream",
     "text": [
      "Nombre: Camisa, Precio: $20, Cantidad: 50\n",
      "Nombre: Zapatos, Precio: $50, Cantidad: 40\n",
      "Nombre: Pantalón, Precio: $30, Cantidad: 30\n",
      "Producto no encontrado.\n"
     ]
    }
   ],
   "source": [
    "\n",
    "buscar_producto(\"Camisa\")\n",
    "buscar_producto(\"Zapatos\")\n",
    "buscar_producto(\"Pantalón\")\n",
    "buscar_producto(\"Chaqueta\")  # Producto que no existe en el inventario"
   ]
  },
  {
   "cell_type": "code",
   "execution_count": 33,
   "id": "1afec1a4",
   "metadata": {
    "vscode": {
     "languageId": "ruby"
    }
   },
   "outputs": [],
   "source": [
    "# 4. `actualizar_stock(nombre, cantidad)`\n",
    "\n",
    "def actualizar_stock(nombre, cantidad):\n",
    "    encontrado = False  # Para saber si encontramos el producto\n",
    "\n",
    "    for producto in inventario:\n",
    "        if producto['nombre'].lower() == nombre.lower():  # Comparamos ignorando mayúsculas\n",
    "            producto['cantidad'] += cantidad  # Sumamos (puede ser negativo)\n",
    "            print(f\"Stock actualizado. Nueva cantidad de {producto['nombre']}: {producto['cantidad']}\")\n",
    "            encontrado = True\n",
    "            break\n",
    "\n",
    "    if not encontrado:\n",
    "        print(f\"Producto '{nombre}' no encontrado en el inventario.\")"
   ]
  },
  {
   "cell_type": "code",
   "execution_count": 34,
   "id": "49bbd110",
   "metadata": {
    "vscode": {
     "languageId": "ruby"
    }
   },
   "outputs": [
    {
     "name": "stdout",
     "output_type": "stream",
     "text": [
      "Stock actualizado. Nueva cantidad de Zapatos: 45\n",
      "Stock actualizado. Nueva cantidad de Zapatos: 42\n",
      "Producto 'Bolso' no encontrado en el inventario.\n"
     ]
    }
   ],
   "source": [
    "\n",
    "actualizar_stock(\"Zapatos\", 5)     # Aumenta en 5 → debería quedar en 15\n",
    "actualizar_stock(\"Zapatos\", -3)    # Resta 3 → debería quedar en 12\n",
    "actualizar_stock(\"Bolso\", 2) # Producto no encontrado"
   ]
  },
  {
   "cell_type": "code",
   "execution_count": 35,
   "id": "e784defb",
   "metadata": {
    "vscode": {
     "languageId": "ruby"
    }
   },
   "outputs": [],
   "source": [
    "#5 `eliminar_producto(nombre)`: Elimina un producto del inventario por nombre. Debe recibir el nombre del producto como parámetro.\n",
    "\n",
    "def eliminar_producto(nombre):\n",
    "    encontrado = False  # Variable para saber si encontramos el producto\n",
    "\n",
    "    for producto in inventario:\n",
    "        if producto['nombre'].lower() == nombre.lower():  # Comparación sin importar mayúsculas\n",
    "            inventario.remove(producto)  # Eliminamos el producto del inventario\n",
    "            print(f\"Producto '{producto['nombre']}' eliminado del inventario.\")\n",
    "            encontrado = True\n",
    "            break\n",
    "\n",
    "    if not encontrado:\n",
    "        print(f\"Producto '{nombre}' no encontrado en el inventario.\")"
   ]
  },
  {
   "cell_type": "code",
   "execution_count": 36,
   "id": "8981290d",
   "metadata": {
    "vscode": {
     "languageId": "ruby"
    }
   },
   "outputs": [
    {
     "name": "stdout",
     "output_type": "stream",
     "text": [
      "Nombre: Camisa, Precio: $20, Cantidad: 50\n",
      "Nombre: Pantalón, Precio: $30, Cantidad: 30\n",
      "Nombre: Zapatos, Precio: $50, Cantidad: 42\n",
      "Producto 'Pantalón' eliminado del inventario.\n",
      "Nombre: Camisa, Precio: $20, Cantidad: 50\n",
      "Nombre: Zapatos, Precio: $50, Cantidad: 42\n"
     ]
    }
   ],
   "source": [
    "ver_inventario()  # Deberías ver el pantalón\n",
    "\n",
    "eliminar_producto(\"Pantalón\")  # Elimina el pantalón\n",
    "ver_inventario()  # Ya no debería aparecer"
   ]
  },
  {
   "cell_type": "code",
   "execution_count": 37,
   "id": "0e16b8e5",
   "metadata": {
    "vscode": {
     "languageId": "ruby"
    }
   },
   "outputs": [],
   "source": [
    "def calcular_valor_inventario():\n",
    "    valor_total = 0  # Inicializamos el total en 0\n",
    "\n",
    "    for producto in inventario:\n",
    "        valor_producto = producto['precio'] * producto['cantidad']  # Precio x cantidad\n",
    "        valor_total += valor_producto  # Lo sumamos al total\n",
    "\n",
    "    print(f\"El valor total del inventario es: ${valor_total}\")\n",
    "    return valor_total"
   ]
  },
  {
   "cell_type": "code",
   "execution_count": 47,
   "id": "19b18635",
   "metadata": {
    "vscode": {
     "languageId": "ruby"
    }
   },
   "outputs": [
    {
     "name": "stdout",
     "output_type": "stream",
     "text": [
      "El valor total del inventario es: $3900\n"
     ]
    },
    {
     "data": {
      "text/plain": [
       "3900"
      ]
     },
     "execution_count": 47,
     "metadata": {},
     "output_type": "execute_result"
    }
   ],
   "source": [
    "calcular_valor_inventario()  # Llamamos a la función para calcular el valor total del inventario\n"
   ]
  },
  {
   "cell_type": "code",
   "execution_count": 48,
   "id": "6bbdce96",
   "metadata": {
    "vscode": {
     "languageId": "ruby"
    }
   },
   "outputs": [],
   "source": [
    "def realizar_compra():\n",
    "    carrito = {}         # Carrito donde se guardarán los productos comprados\n",
    "    total_compra = 0.0   # Total que se irá sumando\n",
    "\n",
    "    while True:\n",
    "        ver_inventario()  # Mostramos el inventario para que el cliente vea qué hay\n",
    "        producto = input(\"¿Qué producto quieres comprar? (escribe 'fin' para terminar): \")\n",
    "\n",
    "        if producto.lower() == 'fin':\n",
    "            break  # Salimos del bucle si el cliente termina\n",
    "\n",
    "        # Verificamos si el producto está en el inventario\n",
    "        encontrado = False\n",
    "        for item in inventario:\n",
    "            if item['nombre'].lower() == producto.lower():\n",
    "                encontrado = True\n",
    "                try:\n",
    "                    cantidad = int(input(f\"¿Cuántos '{producto}' quieres comprar?: \"))\n",
    "                except ValueError:\n",
    "                    print(\"Por favor, ingresa un número válido.\")\n",
    "                    break\n",
    "\n",
    "                if cantidad <= 0:\n",
    "                    print(\"La cantidad debe ser mayor que cero.\")\n",
    "                    break\n",
    "\n",
    "                if item['cantidad'] >= cantidad:\n",
    "                    item['cantidad'] -= cantidad  # Actualizamos el stock\n",
    "\n",
    "                    # Añadimos al carrito\n",
    "                    if producto not in carrito:\n",
    "                        carrito[producto] = {'precio': item['precio'], 'cantidad': cantidad}\n",
    "                    else:\n",
    "                        carrito[producto]['cantidad'] += cantidad\n",
    "\n",
    "                    # Sumamos al total\n",
    "                    total_compra += item['precio'] * cantidad\n",
    "                    print(f\"Has añadido {cantidad} {producto}(s) al carrito.\")\n",
    "                else:\n",
    "                    print(f\"No hay suficiente stock de {producto}. Quedan {item['cantidad']} unidades.\")\n",
    "                break\n",
    "        \n",
    "        if not encontrado:\n",
    "            print(\"Ese producto no está en el inventario.\")\n",
    "\n",
    "    print(f\"\\nTotal de la compra: ${total_compra}\")\n",
    "    return carrito, total_compra"
   ]
  },
  {
   "cell_type": "code",
   "execution_count": 42,
   "id": "407bad27",
   "metadata": {
    "vscode": {
     "languageId": "ruby"
    }
   },
   "outputs": [],
   "source": [
    "agregar_producto(\"Pantalón\", 10, 40)"
   ]
  },
  {
   "cell_type": "code",
   "execution_count": 49,
   "id": "6c3dcc2e",
   "metadata": {
    "vscode": {
     "languageId": "ruby"
    }
   },
   "outputs": [
    {
     "name": "stdout",
     "output_type": "stream",
     "text": [
      "Nombre: Camisa, Precio: $20, Cantidad: 50\n",
      "Nombre: Zapatos, Precio: $50, Cantidad: 42\n",
      "Nombre: Pantalón, Precio: $10, Cantidad: 80\n",
      "Has añadido 3 zapatos(s) al carrito.\n",
      "Nombre: Camisa, Precio: $20, Cantidad: 50\n",
      "Nombre: Zapatos, Precio: $50, Cantidad: 39\n",
      "Nombre: Pantalón, Precio: $10, Cantidad: 80\n",
      "Ese producto no está en el inventario.\n",
      "Nombre: Camisa, Precio: $20, Cantidad: 50\n",
      "Nombre: Zapatos, Precio: $50, Cantidad: 39\n",
      "Nombre: Pantalón, Precio: $10, Cantidad: 80\n",
      "Has añadido 10 camisa(s) al carrito.\n",
      "Nombre: Camisa, Precio: $20, Cantidad: 40\n",
      "Nombre: Zapatos, Precio: $50, Cantidad: 39\n",
      "Nombre: Pantalón, Precio: $10, Cantidad: 80\n",
      "Has añadido 5 pantalón(s) al carrito.\n",
      "Nombre: Camisa, Precio: $20, Cantidad: 40\n",
      "Nombre: Zapatos, Precio: $50, Cantidad: 39\n",
      "Nombre: Pantalón, Precio: $10, Cantidad: 75\n",
      "\n",
      "Total de la compra: $400.0\n"
     ]
    }
   ],
   "source": [
    "carrito, total = realizar_compra()  # Llamamos a la función para realizar la compra\n"
   ]
  },
  {
   "cell_type": "markdown",
   "id": "a4a03635",
   "metadata": {},
   "source": []
  }
 ],
 "metadata": {
  "kernelspec": {
   "display_name": "Python 3",
   "language": "python",
   "name": "python3"
  },
  "language_info": {
   "codemirror_mode": {
    "name": "ipython",
    "version": 3
   },
   "file_extension": ".py",
   "mimetype": "text/x-python",
   "name": "python",
   "nbconvert_exporter": "python",
   "pygments_lexer": "ipython3",
   "version": "3.11.9"
  }
 },
 "nbformat": 4,
 "nbformat_minor": 5
}
